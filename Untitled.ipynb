{
 "cells": [
  {
   "cell_type": "code",
   "execution_count": 1,
   "id": "attended-latter",
   "metadata": {},
   "outputs": [],
   "source": [
    "car_model = 'dodge'"
   ]
  },
  {
   "cell_type": "code",
   "execution_count": 2,
   "id": "going-newfoundland",
   "metadata": {},
   "outputs": [
    {
     "data": {
      "text/plain": [
       "'dodge'"
      ]
     },
     "execution_count": 2,
     "metadata": {},
     "output_type": "execute_result"
    }
   ],
   "source": [
    "car_model"
   ]
  },
  {
   "cell_type": "code",
   "execution_count": 3,
   "id": "caring-heather",
   "metadata": {},
   "outputs": [],
   "source": [
    "x = 3"
   ]
  },
  {
   "cell_type": "code",
   "execution_count": 4,
   "id": "diagnostic-string",
   "metadata": {},
   "outputs": [
    {
     "data": {
      "text/plain": [
       "3"
      ]
     },
     "execution_count": 4,
     "metadata": {},
     "output_type": "execute_result"
    }
   ],
   "source": [
    "x\n"
   ]
  },
  {
   "cell_type": "code",
   "execution_count": 5,
   "id": "facial-healthcare",
   "metadata": {},
   "outputs": [],
   "source": [
    "names = ['win', 'lisa', 'dan', 'meng', 'tim']"
   ]
  },
  {
   "cell_type": "code",
   "execution_count": 6,
   "id": "korean-sierra",
   "metadata": {},
   "outputs": [
    {
     "data": {
      "text/plain": [
       "['win', 'lisa', 'dan', 'meng', 'tim']"
      ]
     },
     "execution_count": 6,
     "metadata": {},
     "output_type": "execute_result"
    }
   ],
   "source": [
    "names\n"
   ]
  },
  {
   "cell_type": "code",
   "execution_count": 7,
   "id": "handmade-image",
   "metadata": {},
   "outputs": [],
   "source": [
    "namessort = sorted(names)"
   ]
  },
  {
   "cell_type": "code",
   "execution_count": 8,
   "id": "optimum-vault",
   "metadata": {},
   "outputs": [
    {
     "data": {
      "text/plain": [
       "['dan', 'lisa', 'meng', 'tim', 'win']"
      ]
     },
     "execution_count": 8,
     "metadata": {},
     "output_type": "execute_result"
    }
   ],
   "source": [
    "namessort"
   ]
  },
  {
   "cell_type": "code",
   "execution_count": 11,
   "id": "alleged-rwanda",
   "metadata": {},
   "outputs": [
    {
     "name": "stdout",
     "output_type": "stream",
     "text": [
      "Hello, dan\n",
      "Hello, win\n"
     ]
    }
   ],
   "source": [
    "for name in range(0,5,4):\n",
    "    print('Hello, ' + namessort[name])\n"
   ]
  },
  {
   "cell_type": "code",
   "execution_count": null,
   "id": "horizontal-viking",
   "metadata": {},
   "outputs": [],
   "source": []
  }
 ],
 "metadata": {
  "kernelspec": {
   "display_name": "Python 3",
   "language": "python",
   "name": "python3"
  },
  "language_info": {
   "codemirror_mode": {
    "name": "ipython",
    "version": 3
   },
   "file_extension": ".py",
   "mimetype": "text/x-python",
   "name": "python",
   "nbconvert_exporter": "python",
   "pygments_lexer": "ipython3",
   "version": "3.9.1"
  }
 },
 "nbformat": 4,
 "nbformat_minor": 5
}
